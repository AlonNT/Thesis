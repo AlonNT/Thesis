{
 "cells": [
  {
   "cell_type": "code",
   "execution_count": 16,
   "metadata": {
    "tags": []
   },
   "outputs": [],
   "source": [
    "import numpy as np\n",
    "import pandas as pd\n",
    "import matplotlib.pyplot as plt\n",
    "import tikzplotlib"
   ]
  },
  {
   "cell_type": "code",
   "execution_count": null,
   "metadata": {},
   "outputs": [],
   "source": [
    "figure_title = 'comparison_to_baselines'\n",
    "rename_dict = {'LLN-ours': 'Ours', \n",
    "               'LLN-convFalse': 'Thiry',\n",
    "               'LLN-random_patches': 'Random Patches',\n",
    "               'CNN': 'Vanilla CNN'}"
   ]
  },
  {
   "cell_type": "code",
   "execution_count": null,
   "metadata": {},
   "outputs": [],
   "source": [
    "df = pd.read_csv(f'./{figure_title}.csv')\n",
    "df.head()"
   ]
  },
  {
   "cell_type": "code",
   "execution_count": null,
   "metadata": {},
   "outputs": [],
   "source": [
    "xlabel = df.columns[0]\n",
    "xs = df[xlabel].values\n",
    "\n",
    "value_name = 'validate_no_aug_accuracy/dataloader_idx_1'\n",
    "relevant_columns = [c for c in df.columns if c.endswith(value_name)]\n",
    "df = df[relevant_columns]\n",
    "df = df.rename(columns={c: c.replace(f' - {value_name}', '') for c in df.columns})\n",
    "df = df.rename(columns=rename_dict)\n",
    "df *= 100  # Convert from fraction to precentages\n",
    "df.head()"
   ]
  },
  {
   "cell_type": "code",
   "execution_count": null,
   "metadata": {},
   "outputs": [],
   "source": [
    "plt.figure()\n",
    "plt.style.use(\"ggplot\")\n",
    "for c in df.columns:\n",
    "    plt.plot(xs, df[c], label=c)\n",
    "plt.xlabel(xlabel)\n",
    "plt.ylabel('accuracy')\n",
    "plt.title('Comparing our model to baselines')\n",
    "plt.legend()\n",
    "plt.grid(True)\n",
    "tikzplotlib.save(f'{figure_title}.tex')"
   ]
  },
  {
   "cell_type": "code",
   "execution_count": 18,
   "metadata": {},
   "outputs": [
    {
     "data": {
      "image/png": "[encoded data removed]",
      "text/plain": [
       "<Figure size 432x288 with 1 Axes>"
      ]
     },
     "metadata": {},
     "output_type": "display_data"
    }
   ],
   "source": [
    "# Create accuracy per k plot\n",
    "ys = [74.77, 76.8, 77.75, 78.8, 79.88, 80.34, 80.36, 80.76, 80.8, 79.75]\n",
    "\n",
    "plt.figure()\n",
    "plt.style.use(\"ggplot\")\n",
    "plt.plot(np.arange(1, len(ys)+1), ys, marker='o')\n",
    "plt.xlabel('k')\n",
    "plt.xticks(ticks=xs, labels=[    1,    2,     4,    8,    16,    32,    64,  128,   256,   512])\n",
    "# plt.yticks(ticks=ys, labels=ys)\n",
    "plt.ylabel('accuracy')\n",
    "plt.grid(True)\n",
    "tikzplotlib.save(f'acc_per_k.tex')"
   ]
  }
 ],
 "metadata": {
  "kernelspec": {
   "display_name": "Python 3 (ipykernel)",
   "language": "python",
   "name": "python3"
  },
  "language_info": {
   "codemirror_mode": {
    "name": "ipython",
    "version": 3
   },
   "file_extension": ".py",
   "mimetype": "text/x-python",
   "name": "python",
   "nbconvert_exporter": "python",
   "pygments_lexer": "ipython3",
   "version": "3.9.7"
  }
 },
 "nbformat": 4,
 "nbformat_minor": 4
}
